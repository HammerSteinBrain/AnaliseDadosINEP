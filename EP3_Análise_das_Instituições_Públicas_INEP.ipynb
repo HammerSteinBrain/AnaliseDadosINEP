{
 "cells": [
  {
   "cell_type": "code",
   "execution_count": 2,
   "metadata": {},
   "outputs": [],
   "source": [
    "#Analise de dados Instituições de Ensino Superior Público\n",
    "#pelo Inep\n",
    "#Rodrigo Rosa"
   ]
  },
  {
   "cell_type": "code",
   "execution_count": 3,
   "metadata": {},
   "outputs": [],
   "source": [
    "import numpy as np\n",
    "import matplotlib.pyplot as plt\n",
    "import pandas as pd\n",
    "import colorsys\n",
    "%matplotlib notebook\n",
    "low_memory=False"
   ]
  },
  {
   "cell_type": "code",
   "execution_count": 4,
   "metadata": {
    "scrolled": true
   },
   "outputs": [],
   "source": [
    "df = pd.read_csv(\"C:/Número de IES.csv\",sep=\";\")"
   ]
  },
  {
   "cell_type": "code",
   "execution_count": 5,
   "metadata": {
    "scrolled": true
   },
   "outputs": [
    {
     "data": {
      "text/html": [
       "<div>\n",
       "<style scoped>\n",
       "    .dataframe tbody tr th:only-of-type {\n",
       "        vertical-align: middle;\n",
       "    }\n",
       "\n",
       "    .dataframe tbody tr th {\n",
       "        vertical-align: top;\n",
       "    }\n",
       "\n",
       "    .dataframe thead th {\n",
       "        text-align: right;\n",
       "    }\n",
       "</style>\n",
       "<table border=\"1\" class=\"dataframe\">\n",
       "  <thead>\n",
       "    <tr style=\"text-align: right;\">\n",
       "      <th></th>\n",
       "      <th>Ano_Censo</th>\n",
       "      <th>Número_de_Instituições</th>\n",
       "      <th>Abrangência</th>\n",
       "      <th>Região</th>\n",
       "      <th>UF</th>\n",
       "    </tr>\n",
       "  </thead>\n",
       "  <tbody>\n",
       "    <tr>\n",
       "      <th>0</th>\n",
       "      <td>2017</td>\n",
       "      <td>240</td>\n",
       "      <td>CENTRO-OESTE</td>\n",
       "      <td>CENTRO-OESTE</td>\n",
       "      <td>NaN</td>\n",
       "    </tr>\n",
       "    <tr>\n",
       "      <th>1</th>\n",
       "      <td>2017</td>\n",
       "      <td>64</td>\n",
       "      <td>DISTRITO FEDERAL</td>\n",
       "      <td>CENTRO-OESTE</td>\n",
       "      <td>DISTRITO FEDERAL</td>\n",
       "    </tr>\n",
       "    <tr>\n",
       "      <th>2</th>\n",
       "      <td>2017</td>\n",
       "      <td>89</td>\n",
       "      <td>GOIÁS</td>\n",
       "      <td>CENTRO-OESTE</td>\n",
       "      <td>GOIÁS</td>\n",
       "    </tr>\n",
       "    <tr>\n",
       "      <th>3</th>\n",
       "      <td>2017</td>\n",
       "      <td>59</td>\n",
       "      <td>MATO GROSSO</td>\n",
       "      <td>CENTRO-OESTE</td>\n",
       "      <td>MATO GROSSO</td>\n",
       "    </tr>\n",
       "    <tr>\n",
       "      <th>4</th>\n",
       "      <td>2017</td>\n",
       "      <td>28</td>\n",
       "      <td>MATO GROSSO DO SUL</td>\n",
       "      <td>CENTRO-OESTE</td>\n",
       "      <td>MATO GROSSO DO SUL</td>\n",
       "    </tr>\n",
       "    <tr>\n",
       "      <th>5</th>\n",
       "      <td>2017</td>\n",
       "      <td>517</td>\n",
       "      <td>NORDESTE</td>\n",
       "      <td>NORDESTE</td>\n",
       "      <td>NaN</td>\n",
       "    </tr>\n",
       "    <tr>\n",
       "      <th>6</th>\n",
       "      <td>2017</td>\n",
       "      <td>29</td>\n",
       "      <td>ALAGOAS</td>\n",
       "      <td>NORDESTE</td>\n",
       "      <td>ALAGOAS</td>\n",
       "    </tr>\n",
       "    <tr>\n",
       "      <th>7</th>\n",
       "      <td>2017</td>\n",
       "      <td>133</td>\n",
       "      <td>BAHIA</td>\n",
       "      <td>NORDESTE</td>\n",
       "      <td>BAHIA</td>\n",
       "    </tr>\n",
       "    <tr>\n",
       "      <th>8</th>\n",
       "      <td>2017</td>\n",
       "      <td>72</td>\n",
       "      <td>CEARÁ</td>\n",
       "      <td>NORDESTE</td>\n",
       "      <td>CEARÁ</td>\n",
       "    </tr>\n",
       "    <tr>\n",
       "      <th>9</th>\n",
       "      <td>2017</td>\n",
       "      <td>45</td>\n",
       "      <td>MARANHÃO</td>\n",
       "      <td>NORDESTE</td>\n",
       "      <td>MARANHÃO</td>\n",
       "    </tr>\n",
       "    <tr>\n",
       "      <th>10</th>\n",
       "      <td>2017</td>\n",
       "      <td>42</td>\n",
       "      <td>PARAÍBA</td>\n",
       "      <td>NORDESTE</td>\n",
       "      <td>PARAÍBA</td>\n",
       "    </tr>\n",
       "    <tr>\n",
       "      <th>11</th>\n",
       "      <td>2017</td>\n",
       "      <td>106</td>\n",
       "      <td>PERNAMBUCO</td>\n",
       "      <td>NORDESTE</td>\n",
       "      <td>PERNAMBUCO</td>\n",
       "    </tr>\n",
       "    <tr>\n",
       "      <th>12</th>\n",
       "      <td>2017</td>\n",
       "      <td>44</td>\n",
       "      <td>PIAUÍ</td>\n",
       "      <td>NORDESTE</td>\n",
       "      <td>PIAUÍ</td>\n",
       "    </tr>\n",
       "    <tr>\n",
       "      <th>13</th>\n",
       "      <td>2017</td>\n",
       "      <td>28</td>\n",
       "      <td>RIO GRANDE DO NORTE</td>\n",
       "      <td>NORDESTE</td>\n",
       "      <td>RIO GRANDE DO NORTE</td>\n",
       "    </tr>\n",
       "    <tr>\n",
       "      <th>14</th>\n",
       "      <td>2017</td>\n",
       "      <td>18</td>\n",
       "      <td>SERGIPE</td>\n",
       "      <td>NORDESTE</td>\n",
       "      <td>SERGIPE</td>\n",
       "    </tr>\n",
       "    <tr>\n",
       "      <th>15</th>\n",
       "      <td>2017</td>\n",
       "      <td>165</td>\n",
       "      <td>NORTE</td>\n",
       "      <td>NORTE</td>\n",
       "      <td>NaN</td>\n",
       "    </tr>\n",
       "    <tr>\n",
       "      <th>16</th>\n",
       "      <td>2017</td>\n",
       "      <td>11</td>\n",
       "      <td>ACRE</td>\n",
       "      <td>NORTE</td>\n",
       "      <td>ACRE</td>\n",
       "    </tr>\n",
       "    <tr>\n",
       "      <th>17</th>\n",
       "      <td>2017</td>\n",
       "      <td>15</td>\n",
       "      <td>AMAPÁ</td>\n",
       "      <td>NORTE</td>\n",
       "      <td>AMAPÁ</td>\n",
       "    </tr>\n",
       "    <tr>\n",
       "      <th>18</th>\n",
       "      <td>2017</td>\n",
       "      <td>20</td>\n",
       "      <td>AMAZONAS</td>\n",
       "      <td>NORTE</td>\n",
       "      <td>AMAZONAS</td>\n",
       "    </tr>\n",
       "    <tr>\n",
       "      <th>19</th>\n",
       "      <td>2017</td>\n",
       "      <td>54</td>\n",
       "      <td>PARÁ</td>\n",
       "      <td>NORTE</td>\n",
       "      <td>PARÁ</td>\n",
       "    </tr>\n",
       "    <tr>\n",
       "      <th>20</th>\n",
       "      <td>2017</td>\n",
       "      <td>34</td>\n",
       "      <td>RONDÔNIA</td>\n",
       "      <td>NORTE</td>\n",
       "      <td>RONDÔNIA</td>\n",
       "    </tr>\n",
       "    <tr>\n",
       "      <th>21</th>\n",
       "      <td>2017</td>\n",
       "      <td>7</td>\n",
       "      <td>RORAIMA</td>\n",
       "      <td>NORTE</td>\n",
       "      <td>RORAIMA</td>\n",
       "    </tr>\n",
       "    <tr>\n",
       "      <th>22</th>\n",
       "      <td>2017</td>\n",
       "      <td>24</td>\n",
       "      <td>TOCANTINS</td>\n",
       "      <td>NORTE</td>\n",
       "      <td>TOCANTINS</td>\n",
       "    </tr>\n",
       "    <tr>\n",
       "      <th>23</th>\n",
       "      <td>2017</td>\n",
       "      <td>1121</td>\n",
       "      <td>SUDESTE</td>\n",
       "      <td>SUDESTE</td>\n",
       "      <td>NaN</td>\n",
       "    </tr>\n",
       "    <tr>\n",
       "      <th>24</th>\n",
       "      <td>2017</td>\n",
       "      <td>78</td>\n",
       "      <td>ESPÍRITO SANTO</td>\n",
       "      <td>SUDESTE</td>\n",
       "      <td>ESPÍRITO SANTO</td>\n",
       "    </tr>\n",
       "    <tr>\n",
       "      <th>25</th>\n",
       "      <td>2017</td>\n",
       "      <td>296</td>\n",
       "      <td>MINAS GERAIS</td>\n",
       "      <td>SUDESTE</td>\n",
       "      <td>MINAS GERAIS</td>\n",
       "    </tr>\n",
       "    <tr>\n",
       "      <th>26</th>\n",
       "      <td>2017</td>\n",
       "      <td>136</td>\n",
       "      <td>RIO DE JANEIRO</td>\n",
       "      <td>SUDESTE</td>\n",
       "      <td>RIO DE JANEIRO</td>\n",
       "    </tr>\n",
       "    <tr>\n",
       "      <th>27</th>\n",
       "      <td>2017</td>\n",
       "      <td>611</td>\n",
       "      <td>SÃO PAULO</td>\n",
       "      <td>SUDESTE</td>\n",
       "      <td>SÃO PAULO</td>\n",
       "    </tr>\n",
       "    <tr>\n",
       "      <th>28</th>\n",
       "      <td>2017</td>\n",
       "      <td>405</td>\n",
       "      <td>SUL</td>\n",
       "      <td>SUL</td>\n",
       "      <td>NaN</td>\n",
       "    </tr>\n",
       "    <tr>\n",
       "      <th>29</th>\n",
       "      <td>2017</td>\n",
       "      <td>189</td>\n",
       "      <td>PARANÁ</td>\n",
       "      <td>SUL</td>\n",
       "      <td>PARANÁ</td>\n",
       "    </tr>\n",
       "  </tbody>\n",
       "</table>\n",
       "</div>"
      ],
      "text/plain": [
       "    Ano_Censo  Número_de_Instituições          Abrangência        Região  \\\n",
       "0        2017                     240         CENTRO-OESTE  CENTRO-OESTE   \n",
       "1        2017                      64     DISTRITO FEDERAL  CENTRO-OESTE   \n",
       "2        2017                      89                GOIÁS  CENTRO-OESTE   \n",
       "3        2017                      59          MATO GROSSO  CENTRO-OESTE   \n",
       "4        2017                      28   MATO GROSSO DO SUL  CENTRO-OESTE   \n",
       "5        2017                     517             NORDESTE      NORDESTE   \n",
       "6        2017                      29              ALAGOAS      NORDESTE   \n",
       "7        2017                     133                BAHIA      NORDESTE   \n",
       "8        2017                      72                CEARÁ      NORDESTE   \n",
       "9        2017                      45             MARANHÃO      NORDESTE   \n",
       "10       2017                      42              PARAÍBA      NORDESTE   \n",
       "11       2017                     106           PERNAMBUCO      NORDESTE   \n",
       "12       2017                      44                PIAUÍ      NORDESTE   \n",
       "13       2017                      28  RIO GRANDE DO NORTE      NORDESTE   \n",
       "14       2017                      18              SERGIPE      NORDESTE   \n",
       "15       2017                     165                NORTE         NORTE   \n",
       "16       2017                      11                 ACRE         NORTE   \n",
       "17       2017                      15                AMAPÁ         NORTE   \n",
       "18       2017                      20             AMAZONAS         NORTE   \n",
       "19       2017                      54                 PARÁ         NORTE   \n",
       "20       2017                      34             RONDÔNIA         NORTE   \n",
       "21       2017                       7              RORAIMA         NORTE   \n",
       "22       2017                      24            TOCANTINS         NORTE   \n",
       "23       2017                    1121              SUDESTE       SUDESTE   \n",
       "24       2017                      78       ESPÍRITO SANTO       SUDESTE   \n",
       "25       2017                     296         MINAS GERAIS       SUDESTE   \n",
       "26       2017                     136       RIO DE JANEIRO       SUDESTE   \n",
       "27       2017                     611            SÃO PAULO       SUDESTE   \n",
       "28       2017                     405                  SUL           SUL   \n",
       "29       2017                     189               PARANÁ           SUL   \n",
       "\n",
       "                     UF  \n",
       "0                   NaN  \n",
       "1      DISTRITO FEDERAL  \n",
       "2                 GOIÁS  \n",
       "3           MATO GROSSO  \n",
       "4    MATO GROSSO DO SUL  \n",
       "5                   NaN  \n",
       "6               ALAGOAS  \n",
       "7                 BAHIA  \n",
       "8                 CEARÁ  \n",
       "9              MARANHÃO  \n",
       "10              PARAÍBA  \n",
       "11           PERNAMBUCO  \n",
       "12                PIAUÍ  \n",
       "13  RIO GRANDE DO NORTE  \n",
       "14              SERGIPE  \n",
       "15                  NaN  \n",
       "16                 ACRE  \n",
       "17                AMAPÁ  \n",
       "18             AMAZONAS  \n",
       "19                 PARÁ  \n",
       "20             RONDÔNIA  \n",
       "21              RORAIMA  \n",
       "22            TOCANTINS  \n",
       "23                  NaN  \n",
       "24       ESPÍRITO SANTO  \n",
       "25         MINAS GERAIS  \n",
       "26       RIO DE JANEIRO  \n",
       "27            SÃO PAULO  \n",
       "28                  NaN  \n",
       "29               PARANÁ  "
      ]
     },
     "execution_count": 5,
     "metadata": {},
     "output_type": "execute_result"
    }
   ],
   "source": [
    "df.head(30)"
   ]
  },
  {
   "cell_type": "code",
   "execution_count": 6,
   "metadata": {},
   "outputs": [
    {
     "data": {
      "text/plain": [
       "4896"
      ]
     },
     "execution_count": 6,
     "metadata": {},
     "output_type": "execute_result"
    }
   ],
   "source": [
    "#Total de instituições publicas no país até o ano de 2017\n",
    "df[df.Ano_Censo==2017].Número_de_Instituições.sum()"
   ]
  },
  {
   "cell_type": "code",
   "execution_count": 7,
   "metadata": {},
   "outputs": [
    {
     "data": {
      "text/html": [
       "<div>\n",
       "<style scoped>\n",
       "    .dataframe tbody tr th:only-of-type {\n",
       "        vertical-align: middle;\n",
       "    }\n",
       "\n",
       "    .dataframe tbody tr th {\n",
       "        vertical-align: top;\n",
       "    }\n",
       "\n",
       "    .dataframe thead th {\n",
       "        text-align: right;\n",
       "    }\n",
       "</style>\n",
       "<table border=\"1\" class=\"dataframe\">\n",
       "  <thead>\n",
       "    <tr style=\"text-align: right;\">\n",
       "      <th></th>\n",
       "      <th>Número_de_Instituições</th>\n",
       "    </tr>\n",
       "    <tr>\n",
       "      <th>Ano_Censo</th>\n",
       "      <th></th>\n",
       "    </tr>\n",
       "  </thead>\n",
       "  <tbody>\n",
       "    <tr>\n",
       "      <th>2014</th>\n",
       "      <td>4736</td>\n",
       "    </tr>\n",
       "    <tr>\n",
       "      <th>2015</th>\n",
       "      <td>4728</td>\n",
       "    </tr>\n",
       "    <tr>\n",
       "      <th>2016</th>\n",
       "      <td>4814</td>\n",
       "    </tr>\n",
       "    <tr>\n",
       "      <th>2017</th>\n",
       "      <td>4896</td>\n",
       "    </tr>\n",
       "  </tbody>\n",
       "</table>\n",
       "</div>"
      ],
      "text/plain": [
       "           Número_de_Instituições\n",
       "Ano_Censo                        \n",
       "2014                         4736\n",
       "2015                         4728\n",
       "2016                         4814\n",
       "2017                         4896"
      ]
     },
     "execution_count": 7,
     "metadata": {},
     "output_type": "execute_result"
    }
   ],
   "source": [
    "#Numero de instituições por ano\n",
    "df[[\"Número_de_Instituições\"]].groupby(df.Ano_Censo).sum()"
   ]
  },
  {
   "cell_type": "code",
   "execution_count": 8,
   "metadata": {},
   "outputs": [],
   "source": [
    "#2017\n",
    "SUDESTE_2017 = df[(df.Ano_Censo == 2017) & (df.Região == 'SUDESTE')].Número_de_Instituições.sum()\n",
    "CENTRO_OESTE_2017 = df[(df.Ano_Censo == 2017) & (df.Região == 'CENTRO-OESTE')].Número_de_Instituições.sum()\n",
    "NORDESTE_2017 = df[(df.Ano_Censo == 2017) & (df.Região == 'NORDESTE')].Número_de_Instituições.sum()\n",
    "NORTE_2017 = df[(df.Ano_Censo == 2017) & (df.Região == 'NORTE')].Número_de_Instituições.sum()\n",
    "SUL_2017 = df[(df.Ano_Censo == 2017) & (df.Região == 'SUL')].Número_de_Instituições.sum()\n",
    "TOTAL_2017=SUDESTE_2017+CENTRO_OESTE_2017+NORDESTE_2017+NORTE_2017+SUL_2017"
   ]
  },
  {
   "cell_type": "code",
   "execution_count": 9,
   "metadata": {
    "scrolled": true
   },
   "outputs": [
    {
     "data": {
      "image/png": "[encoded data removed]",
      "text/plain": [
       "<Figure size 432x288 with 1 Axes>"
      ]
     },
     "metadata": {
      "needs_background": "light"
     },
     "output_type": "display_data"
    }
   ],
   "source": [
    "#Gerando Grafico de barras\n",
    "regioes=[SUDESTE_2017,CENTRO_OESTE_2017,NORDESTE_2017,NORTE_2017,SUL_2017]\n",
    "legenda=['SUDESTE','CENTRO_OESTE','NORDESTE','NORTE','SUL']\n",
    "plt.bar(legenda,regioes)\n",
    "plt.ylabel(\"Em milhares\")\n",
    "plt.title(\"Distribuição das instituição de Ensino Superior no ultimo ano analisado (2017)\")\n",
    "plt.show()"
   ]
  },
  {
   "cell_type": "code",
   "execution_count": 10,
   "metadata": {},
   "outputs": [
    {
     "data": {
      "image/png": "[encoded data removed]",
      "text/plain": [
       "<Figure size 432x432 with 1 Axes>"
      ]
     },
     "metadata": {},
     "output_type": "display_data"
    }
   ],
   "source": [
    "#Gerando Grafico de pizza do ultimo ano analisado (2017)\n",
    "\n",
    "labels = 'SUDESTE','CENTRO_OESTE','NORDESTE','NORTE','SUL'\n",
    "sizes = [SUDESTE_2017,CENTRO_OESTE_2017,NORDESTE_2017,NORTE_2017,SUL_2017]\n",
    "\n",
    "# Estamos criando a representação, área de plotagem\n",
    "fig1, ax1 = plt.subplots(figsize=(6, 6))\n",
    "\n",
    "# Criando o gráfico\n",
    "ax1.pie(sizes, labels=labels, autopct='%1.1f%%',\n",
    "        shadow=True, startangle=90)\n",
    "\n",
    "# Com esta opção, o gráfico ficará em círculo\n",
    "ax1.axis('equal')\n",
    "\n",
    "# Mostra o gráfico\n",
    "plt.show()"
   ]
  },
  {
   "cell_type": "code",
   "execution_count": 11,
   "metadata": {},
   "outputs": [
    {
     "data": {
      "text/plain": [
       "<matplotlib.axes._subplots.AxesSubplot at 0x11a792b0>"
      ]
     },
     "execution_count": 11,
     "metadata": {},
     "output_type": "execute_result"
    },
    {
     "data": {
      "image/png": "[encoded data removed]",
      "text/plain": [
       "<Figure size 576x288 with 1 Axes>"
      ]
     },
     "metadata": {
      "needs_background": "light"
     },
     "output_type": "display_data"
    }
   ],
   "source": [
    "#Numero de instituições criadas a partir de 2015\n",
    "df[[\"Número_de_Instituições\"]].groupby(df.Ano_Censo).sum().plot(kind='line', figsize=(8,4))"
   ]
  },
  {
   "cell_type": "code",
   "execution_count": 12,
   "metadata": {},
   "outputs": [
    {
     "data": {
      "text/plain": [
       "<matplotlib.axes._subplots.AxesSubplot at 0x11b875c0>"
      ]
     },
     "execution_count": 12,
     "metadata": {},
     "output_type": "execute_result"
    },
    {
     "data": {
      "image/png": "[encoded data removed]",
      "text/plain": [
       "<Figure size 432x288 with 1 Axes>"
      ]
     },
     "metadata": {
      "needs_background": "light"
     },
     "output_type": "display_data"
    }
   ],
   "source": [
    "#Box plot com maior crescimento\n",
    "df.boxplot(column='Ano_Censo')"
   ]
  }
 ],
 "metadata": {
  "kernelspec": {
   "display_name": "Python 3",
   "language": "python",
   "name": "python3"
  },
  "language_info": {
   "codemirror_mode": {
    "name": "ipython",
    "version": 3
   },
   "file_extension": ".py",
   "mimetype": "text/x-python",
   "name": "python",
   "nbconvert_exporter": "python",
   "pygments_lexer": "ipython3",
   "version": "3.7.1"
  }
 },
 "nbformat": 4,
 "nbformat_minor": 2
}
